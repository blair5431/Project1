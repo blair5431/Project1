{
 "cells": [
  {
   "cell_type": "code",
   "execution_count": 1,
   "metadata": {
    "collapsed": true
   },
   "outputs": [],
   "source": [
    "import pandas as pd\n",
    "import json\n",
    "import requests as req\n",
    "from config import gkey\n"
   ]
  },
  {
   "cell_type": "code",
   "execution_count": 2,
   "metadata": {},
   "outputs": [
    {
     "data": {
      "text/html": [
       "<div>\n",
       "<style>\n",
       "    .dataframe thead tr:only-child th {\n",
       "        text-align: right;\n",
       "    }\n",
       "\n",
       "    .dataframe thead th {\n",
       "        text-align: left;\n",
       "    }\n",
       "\n",
       "    .dataframe tbody tr th {\n",
       "        vertical-align: top;\n",
       "    }\n",
       "</style>\n",
       "<table border=\"1\" class=\"dataframe\">\n",
       "  <thead>\n",
       "    <tr style=\"text-align: right;\">\n",
       "      <th></th>\n",
       "      <th>time_of_trip</th>\n",
       "      <th>start_lat</th>\n",
       "      <th>start_lng</th>\n",
       "      <th>Unnamed: 3</th>\n",
       "    </tr>\n",
       "  </thead>\n",
       "  <tbody>\n",
       "    <tr>\n",
       "      <th>0</th>\n",
       "      <td>9/4/2014 9:51</td>\n",
       "      <td>40.64705</td>\n",
       "      <td>-73.77988</td>\n",
       "      <td>NaN</td>\n",
       "    </tr>\n",
       "    <tr>\n",
       "      <th>1</th>\n",
       "      <td>8/27/2014 21:13</td>\n",
       "      <td>40.74916</td>\n",
       "      <td>-73.98373</td>\n",
       "      <td>NaN</td>\n",
       "    </tr>\n",
       "    <tr>\n",
       "      <th>2</th>\n",
       "      <td>9/4/2014 14:16</td>\n",
       "      <td>40.64065</td>\n",
       "      <td>-73.97594</td>\n",
       "      <td>NaN</td>\n",
       "    </tr>\n",
       "    <tr>\n",
       "      <th>3</th>\n",
       "      <td>9/4/2014 16:08</td>\n",
       "      <td>40.75002</td>\n",
       "      <td>-73.99514</td>\n",
       "      <td>NaN</td>\n",
       "    </tr>\n",
       "    <tr>\n",
       "      <th>4</th>\n",
       "      <td>8/28/2014 2:41</td>\n",
       "      <td>40.76715</td>\n",
       "      <td>-73.98636</td>\n",
       "      <td>NaN</td>\n",
       "    </tr>\n",
       "  </tbody>\n",
       "</table>\n",
       "</div>"
      ],
      "text/plain": [
       "      time_of_trip  start_lat  start_lng Unnamed: 3\n",
       "0    9/4/2014 9:51   40.64705  -73.77988        NaN\n",
       "1  8/27/2014 21:13   40.74916  -73.98373        NaN\n",
       "2   9/4/2014 14:16   40.64065  -73.97594        NaN\n",
       "3   9/4/2014 16:08   40.75002  -73.99514        NaN\n",
       "4   8/28/2014 2:41   40.76715  -73.98636        NaN"
      ]
     },
     "execution_count": 2,
     "metadata": {},
     "output_type": "execute_result"
    }
   ],
   "source": [
    "#import data\n",
    "\n",
    "uber_july_raw = pd.read_csv(\"uber-raw-data-jul14.csv\")\n",
    "\n",
    "uber_aug_raw = pd.read_csv(\"uber-raw-data-aug14.csv\")\n",
    "\n",
    "\n",
    "uber_sep_raw = pd.read_csv(\"uber-raw-data-sep14.csv\")\n",
    "\n",
    "lyft_data_raw = pd.read_csv(\"Lyft_July-Sep.csv\")\n",
    "\n",
    "lyft_data_raw.head()"
   ]
  },
  {
   "cell_type": "code",
   "execution_count": null,
   "metadata": {},
   "outputs": [],
   "source": [
    "# Union 3 uber datasets together\n",
    "# uber_july_aug = uber_july_raw.append(uber_aug_raw)\n",
    "# uber_data_raw = uber_july_aug.append(uber_sep_raw)\n",
    "# uber_test = uber_data_raw.sample(1000)\n",
    "# uber_test\n",
    "uber_test = uber_data_raw.sample(2000)\n",
    "\n",
    "uber_test"
   ]
  },
  {
   "cell_type": "code",
   "execution_count": 14,
   "metadata": {
    "collapsed": true
   },
   "outputs": [],
   "source": [
    "#base_url = \"http://maps.googleapis.com/maps/api/geocode/json?latlng=40.714224,-73.961452&sensor=false\"\n",
    "\n",
    "base_url = \"https://maps.googleapis.com/maps/api/geocode/json?\"\n"
   ]
  },
  {
   "cell_type": "code",
   "execution_count": null,
   "metadata": {},
   "outputs": [],
   "source": [
    "for i, j in uber_test.iterrows():\n",
    "    try:\n",
    "        coor = \"%s, %s\" % (j[\"Lat\"],j[\"Lon\"])\n",
    "        params = {\"latlng\":coor,\n",
    "                  \"key\":gkey\n",
    "                 }\n",
    "        response = req.get(base_url, params=params)\n",
    "        json = response.json()\n",
    "\n",
    "        zipcode = json[\"results\"][0][\"formatted_address\"].split(\",\")[2].split(\" \")[2]\n",
    "        #[\"address_components\"][8][\"long_name\"]\n",
    "        #print(zipcode)\n",
    "        uber_test.loc[i,\"zipcode\"] = zipcode\n",
    "        \n",
    "        \n",
    "\n",
    "    except:\n",
    "    \n",
    "        print(\"invalid\")\n",
    "    \n",
    "\n",
    "\n",
    "print(uber_test)"
   ]
  },
  {
   "cell_type": "code",
   "execution_count": null,
   "metadata": {
    "collapsed": true
   },
   "outputs": [],
   "source": [
    "uber_test.to_csv(\"data_6.csv\",encoding=\"utf-8\", index=False)"
   ]
  },
  {
   "cell_type": "code",
   "execution_count": 22,
   "metadata": {},
   "outputs": [
    {
     "data": {
      "text/html": [
       "<div>\n",
       "<style>\n",
       "    .dataframe thead tr:only-child th {\n",
       "        text-align: right;\n",
       "    }\n",
       "\n",
       "    .dataframe thead th {\n",
       "        text-align: left;\n",
       "    }\n",
       "\n",
       "    .dataframe tbody tr th {\n",
       "        vertical-align: top;\n",
       "    }\n",
       "</style>\n",
       "<table border=\"1\" class=\"dataframe\">\n",
       "  <thead>\n",
       "    <tr style=\"text-align: right;\">\n",
       "      <th></th>\n",
       "      <th>time_of_trip</th>\n",
       "      <th>start_lat</th>\n",
       "      <th>start_lng</th>\n",
       "      <th>Unnamed: 3</th>\n",
       "    </tr>\n",
       "  </thead>\n",
       "  <tbody>\n",
       "    <tr>\n",
       "      <th>143651</th>\n",
       "      <td>8/29/2014 2:58</td>\n",
       "      <td>40.74499</td>\n",
       "      <td>-73.97508</td>\n",
       "      <td>NaN</td>\n",
       "    </tr>\n",
       "  </tbody>\n",
       "</table>\n",
       "</div>"
      ],
      "text/plain": [
       "          time_of_trip  start_lat  start_lng Unnamed: 3\n",
       "143651  8/29/2014 2:58   40.74499  -73.97508        NaN"
      ]
     },
     "execution_count": 22,
     "metadata": {},
     "output_type": "execute_result"
    }
   ],
   "source": [
    "lyft_test = lyft_data_raw.sample(1)\n",
    "\n",
    "lyft_test"
   ]
  },
  {
   "cell_type": "code",
   "execution_count": 24,
   "metadata": {},
   "outputs": [
    {
     "name": "stdout",
     "output_type": "stream",
     "text": [
      "{'error_message': 'You have exceeded your daily request quota for this API.', 'results': [], 'status': 'OVER_QUERY_LIMIT'}\n"
     ]
    },
    {
     "ename": "IndexError",
     "evalue": "list index out of range",
     "output_type": "error",
     "traceback": [
      "\u001b[0;31m---------------------------------------------------------------------------\u001b[0m",
      "\u001b[0;31mIndexError\u001b[0m                                Traceback (most recent call last)",
      "\u001b[0;32m<ipython-input-24-491b9831468a>\u001b[0m in \u001b[0;36m<module>\u001b[0;34m()\u001b[0m\n\u001b[1;32m      8\u001b[0m     \u001b[0mjson\u001b[0m \u001b[0;34m=\u001b[0m \u001b[0mresponse\u001b[0m\u001b[0;34m.\u001b[0m\u001b[0mjson\u001b[0m\u001b[0;34m(\u001b[0m\u001b[0;34m)\u001b[0m\u001b[0;34m\u001b[0m\u001b[0m\n\u001b[1;32m      9\u001b[0m     \u001b[0mprint\u001b[0m\u001b[0;34m(\u001b[0m\u001b[0mjson\u001b[0m\u001b[0;34m)\u001b[0m\u001b[0;34m\u001b[0m\u001b[0m\n\u001b[0;32m---> 10\u001b[0;31m     \u001b[0mzipcode\u001b[0m \u001b[0;34m=\u001b[0m \u001b[0mjson\u001b[0m\u001b[0;34m[\u001b[0m\u001b[0;34m\"results\"\u001b[0m\u001b[0;34m]\u001b[0m\u001b[0;34m[\u001b[0m\u001b[0;36m0\u001b[0m\u001b[0;34m]\u001b[0m\u001b[0;34m[\u001b[0m\u001b[0;34m\"formatted_address\"\u001b[0m\u001b[0;34m]\u001b[0m\u001b[0;34m.\u001b[0m\u001b[0msplit\u001b[0m\u001b[0;34m(\u001b[0m\u001b[0;34m\",\"\u001b[0m\u001b[0;34m)\u001b[0m\u001b[0;34m[\u001b[0m\u001b[0;36m2\u001b[0m\u001b[0;34m]\u001b[0m\u001b[0;34m.\u001b[0m\u001b[0msplit\u001b[0m\u001b[0;34m(\u001b[0m\u001b[0;34m\" \"\u001b[0m\u001b[0;34m)\u001b[0m\u001b[0;34m[\u001b[0m\u001b[0;36m2\u001b[0m\u001b[0;34m]\u001b[0m\u001b[0;34m\u001b[0m\u001b[0m\n\u001b[0m\u001b[1;32m     11\u001b[0m     \u001b[0;31m#[\"address_components\"][8][\"long_name\"]\u001b[0m\u001b[0;34m\u001b[0m\u001b[0;34m\u001b[0m\u001b[0m\n\u001b[1;32m     12\u001b[0m     \u001b[0;31m#print(zipcode)\u001b[0m\u001b[0;34m\u001b[0m\u001b[0;34m\u001b[0m\u001b[0m\n",
      "\u001b[0;31mIndexError\u001b[0m: list index out of range"
     ]
    }
   ],
   "source": [
    "for i, j in lyft_test.iterrows():\n",
    "    #try:\n",
    "    coor = \"%s, %s\" % (j[\"start_lat\"],j[\"start_lng\"])\n",
    "    params = {\"latlng\":coor,\n",
    "              \"key\":gkey\n",
    "             }\n",
    "    response = req.get(base_url, params=params)\n",
    "    json = response.json()\n",
    "    print(json)\n",
    "    zipcode = json[\"results\"][0][\"formatted_address\"].split(\",\")[2].split(\" \")[2]\n",
    "    #[\"address_components\"][8][\"long_name\"]\n",
    "    #print(zipcode)\n",
    "    uber_test.loc[i,\"zipcode\"] = zipcode\n",
    "        \n",
    "        \n",
    "\n",
    "    #except:\n",
    "    \n",
    "        #print(\"invalid\")\n",
    "    \n",
    "\n",
    "\n",
    "print(lyft_test)"
   ]
  },
  {
   "cell_type": "code",
   "execution_count": 20,
   "metadata": {
    "collapsed": true
   },
   "outputs": [],
   "source": [
    "lyft_test.to_csv(\"data_6.csv\",encoding=\"utf-8\", index=False)"
   ]
  },
  {
   "cell_type": "code",
   "execution_count": null,
   "metadata": {
    "collapsed": true
   },
   "outputs": [],
   "source": []
  }
 ],
 "metadata": {
  "kernelspec": {
   "display_name": "Python 3",
   "language": "python",
   "name": "python3"
  },
  "language_info": {
   "codemirror_mode": {
    "name": "ipython",
    "version": 3
   },
   "file_extension": ".py",
   "mimetype": "text/x-python",
   "name": "python",
   "nbconvert_exporter": "python",
   "pygments_lexer": "ipython3",
   "version": "3.6.3"
  }
 },
 "nbformat": 4,
 "nbformat_minor": 2
}
