{
 "cells": [
  {
   "cell_type": "code",
   "execution_count": 1,
   "metadata": {},
   "outputs": [],
   "source": [
    "import pandas as pd\n",
    "import json\n",
    "import requests as req\n",
    "from config import gkey\n"
   ]
  },
  {
   "cell_type": "code",
   "execution_count": 2,
   "metadata": {},
   "outputs": [
    {
     "data": {
      "text/html": [
       "<div>\n",
       "<style>\n",
       "    .dataframe thead tr:only-child th {\n",
       "        text-align: right;\n",
       "    }\n",
       "\n",
       "    .dataframe thead th {\n",
       "        text-align: left;\n",
       "    }\n",
       "\n",
       "    .dataframe tbody tr th {\n",
       "        vertical-align: top;\n",
       "    }\n",
       "</style>\n",
       "<table border=\"1\" class=\"dataframe\">\n",
       "  <thead>\n",
       "    <tr style=\"text-align: right;\">\n",
       "      <th></th>\n",
       "      <th>time_of_trip</th>\n",
       "      <th>start_lat</th>\n",
       "      <th>start_lng</th>\n",
       "      <th>Unnamed: 3</th>\n",
       "    </tr>\n",
       "  </thead>\n",
       "  <tbody>\n",
       "    <tr>\n",
       "      <th>0</th>\n",
       "      <td>9/4/2014 9:51</td>\n",
       "      <td>40.64705</td>\n",
       "      <td>-73.77988</td>\n",
       "      <td>NaN</td>\n",
       "    </tr>\n",
       "    <tr>\n",
       "      <th>1</th>\n",
       "      <td>8/27/2014 21:13</td>\n",
       "      <td>40.74916</td>\n",
       "      <td>-73.98373</td>\n",
       "      <td>NaN</td>\n",
       "    </tr>\n",
       "    <tr>\n",
       "      <th>2</th>\n",
       "      <td>9/4/2014 14:16</td>\n",
       "      <td>40.64065</td>\n",
       "      <td>-73.97594</td>\n",
       "      <td>NaN</td>\n",
       "    </tr>\n",
       "    <tr>\n",
       "      <th>3</th>\n",
       "      <td>9/4/2014 16:08</td>\n",
       "      <td>40.75002</td>\n",
       "      <td>-73.99514</td>\n",
       "      <td>NaN</td>\n",
       "    </tr>\n",
       "    <tr>\n",
       "      <th>4</th>\n",
       "      <td>8/28/2014 2:41</td>\n",
       "      <td>40.76715</td>\n",
       "      <td>-73.98636</td>\n",
       "      <td>NaN</td>\n",
       "    </tr>\n",
       "  </tbody>\n",
       "</table>\n",
       "</div>"
      ],
      "text/plain": [
       "      time_of_trip  start_lat  start_lng Unnamed: 3\n",
       "0    9/4/2014 9:51   40.64705  -73.77988        NaN\n",
       "1  8/27/2014 21:13   40.74916  -73.98373        NaN\n",
       "2   9/4/2014 14:16   40.64065  -73.97594        NaN\n",
       "3   9/4/2014 16:08   40.75002  -73.99514        NaN\n",
       "4   8/28/2014 2:41   40.76715  -73.98636        NaN"
      ]
     },
     "execution_count": 2,
     "metadata": {},
     "output_type": "execute_result"
    }
   ],
   "source": [
    "#import data\n",
    "\n",
    "uber_july_raw = pd.read_csv(\"uber-raw-data-jul14.csv\")\n",
    "\n",
    "uber_aug_raw = pd.read_csv(\"uber-raw-data-aug14.csv\")\n",
    "\n",
    "uber_sep_raw = pd.read_csv(\"uber-raw-data-sep14.csv\")\n",
    "\n",
    "lyft_data_raw = pd.read_csv(\"Lyft_July-Sep.csv\")\n",
    "\n",
    "lyft_data_raw.head()"
   ]
  },
  {
   "cell_type": "code",
   "execution_count": 3,
   "metadata": {},
   "outputs": [
    {
     "data": {
      "text/html": [
       "<div>\n",
       "<style>\n",
       "    .dataframe thead tr:only-child th {\n",
       "        text-align: right;\n",
       "    }\n",
       "\n",
       "    .dataframe thead th {\n",
       "        text-align: left;\n",
       "    }\n",
       "\n",
       "    .dataframe tbody tr th {\n",
       "        vertical-align: top;\n",
       "    }\n",
       "</style>\n",
       "<table border=\"1\" class=\"dataframe\">\n",
       "  <thead>\n",
       "    <tr style=\"text-align: right;\">\n",
       "      <th></th>\n",
       "      <th>Date/Time</th>\n",
       "      <th>Lat</th>\n",
       "      <th>Lon</th>\n",
       "      <th>Base</th>\n",
       "    </tr>\n",
       "  </thead>\n",
       "  <tbody>\n",
       "    <tr>\n",
       "      <th>0</th>\n",
       "      <td>7/1/2014 0:03:00</td>\n",
       "      <td>40.7586</td>\n",
       "      <td>-73.9706</td>\n",
       "      <td>B02512</td>\n",
       "    </tr>\n",
       "    <tr>\n",
       "      <th>1</th>\n",
       "      <td>7/1/2014 0:05:00</td>\n",
       "      <td>40.7605</td>\n",
       "      <td>-73.9994</td>\n",
       "      <td>B02512</td>\n",
       "    </tr>\n",
       "    <tr>\n",
       "      <th>2</th>\n",
       "      <td>7/1/2014 0:06:00</td>\n",
       "      <td>40.7320</td>\n",
       "      <td>-73.9999</td>\n",
       "      <td>B02512</td>\n",
       "    </tr>\n",
       "    <tr>\n",
       "      <th>3</th>\n",
       "      <td>7/1/2014 0:09:00</td>\n",
       "      <td>40.7635</td>\n",
       "      <td>-73.9793</td>\n",
       "      <td>B02512</td>\n",
       "    </tr>\n",
       "    <tr>\n",
       "      <th>4</th>\n",
       "      <td>7/1/2014 0:20:00</td>\n",
       "      <td>40.7204</td>\n",
       "      <td>-74.0047</td>\n",
       "      <td>B02512</td>\n",
       "    </tr>\n",
       "    <tr>\n",
       "      <th>5</th>\n",
       "      <td>7/1/2014 0:35:00</td>\n",
       "      <td>40.7487</td>\n",
       "      <td>-73.9869</td>\n",
       "      <td>B02512</td>\n",
       "    </tr>\n",
       "    <tr>\n",
       "      <th>6</th>\n",
       "      <td>7/1/2014 0:57:00</td>\n",
       "      <td>40.7444</td>\n",
       "      <td>-73.9961</td>\n",
       "      <td>B02512</td>\n",
       "    </tr>\n",
       "    <tr>\n",
       "      <th>7</th>\n",
       "      <td>7/1/2014 0:58:00</td>\n",
       "      <td>40.7132</td>\n",
       "      <td>-73.9492</td>\n",
       "      <td>B02512</td>\n",
       "    </tr>\n",
       "    <tr>\n",
       "      <th>8</th>\n",
       "      <td>7/1/2014 1:04:00</td>\n",
       "      <td>40.7590</td>\n",
       "      <td>-73.9730</td>\n",
       "      <td>B02512</td>\n",
       "    </tr>\n",
       "    <tr>\n",
       "      <th>9</th>\n",
       "      <td>7/1/2014 1:08:00</td>\n",
       "      <td>40.7601</td>\n",
       "      <td>-73.9823</td>\n",
       "      <td>B02512</td>\n",
       "    </tr>\n",
       "  </tbody>\n",
       "</table>\n",
       "</div>"
      ],
      "text/plain": [
       "          Date/Time      Lat      Lon    Base\n",
       "0  7/1/2014 0:03:00  40.7586 -73.9706  B02512\n",
       "1  7/1/2014 0:05:00  40.7605 -73.9994  B02512\n",
       "2  7/1/2014 0:06:00  40.7320 -73.9999  B02512\n",
       "3  7/1/2014 0:09:00  40.7635 -73.9793  B02512\n",
       "4  7/1/2014 0:20:00  40.7204 -74.0047  B02512\n",
       "5  7/1/2014 0:35:00  40.7487 -73.9869  B02512\n",
       "6  7/1/2014 0:57:00  40.7444 -73.9961  B02512\n",
       "7  7/1/2014 0:58:00  40.7132 -73.9492  B02512\n",
       "8  7/1/2014 1:04:00  40.7590 -73.9730  B02512\n",
       "9  7/1/2014 1:08:00  40.7601 -73.9823  B02512"
      ]
     },
     "execution_count": 3,
     "metadata": {},
     "output_type": "execute_result"
    }
   ],
   "source": [
    "# Union 3 uber datasets together\n",
    "uber_july_aug = uber_july_raw.append(uber_aug_raw)\n",
    "uber_data_raw = uber_july_aug.append(uber_sep_raw)\n",
    "uber_test = uber_data_raw.head(10)\n",
    "uber_test"
   ]
  },
  {
   "cell_type": "code",
   "execution_count": 4,
   "metadata": {
    "collapsed": true
   },
   "outputs": [],
   "source": [
    "#base_url = \"http://maps.googleapis.com/maps/api/geocode/json?latlng=40.714224,-73.961452&sensor=false\"\n",
    "\n",
    "base_url = \"https://maps.googleapis.com/maps/api/geocode/json?\"\n"
   ]
  },
  {
   "cell_type": "code",
   "execution_count": 9,
   "metadata": {},
   "outputs": [
    {
     "name": "stdout",
     "output_type": "stream",
     "text": [
      "10022\n",
      "10036"
     ]
    },
    {
     "name": "stderr",
     "output_type": "stream",
     "text": [
      "/Users/jialiliu/anaconda3/lib/python3.6/site-packages/ipykernel_launcher.py:13: SettingWithCopyWarning: \n",
      "A value is trying to be set on a copy of a slice from a DataFrame.\n",
      "Try using .loc[row_indexer,col_indexer] = value instead\n",
      "\n",
      "See the caveats in the documentation: http://pandas.pydata.org/pandas-docs/stable/indexing.html#indexing-view-versus-copy\n",
      "  del sys.path[0]\n"
     ]
    },
    {
     "name": "stdout",
     "output_type": "stream",
     "text": [
      "\n",
      "10011\n",
      "10019\n",
      "10013\n",
      "10001\n",
      "10010\n",
      "invalid\n",
      "          Date/Time      Lat      Lon    Base zipcode\n",
      "0  7/1/2014 0:03:00  40.7586 -73.9706  B02512   10010\n",
      "1  7/1/2014 0:05:00  40.7605 -73.9994  B02512   10010\n",
      "2  7/1/2014 0:06:00  40.7320 -73.9999  B02512   10010\n",
      "3  7/1/2014 0:09:00  40.7635 -73.9793  B02512   10010\n",
      "4  7/1/2014 0:20:00  40.7204 -74.0047  B02512   10010\n",
      "5  7/1/2014 0:35:00  40.7487 -73.9869  B02512   10010\n",
      "6  7/1/2014 0:57:00  40.7444 -73.9961  B02512   10010\n",
      "7  7/1/2014 0:58:00  40.7132 -73.9492  B02512   10010\n",
      "8  7/1/2014 1:04:00  40.7590 -73.9730  B02512   10010\n",
      "9  7/1/2014 1:08:00  40.7601 -73.9823  B02512   10010\n"
     ]
    }
   ],
   "source": [
    "try:\n",
    "    for i, j in uber_test.iterrows():\n",
    "        coor = \"%s, %s\" % (j[\"Lat\"],j[\"Lon\"])\n",
    "        params = {\"latlng\":coor,\n",
    "                  \"sensor\":\"false\",\n",
    "                  \"key\":gkey\n",
    "                 }\n",
    "        response = req.get(base_url, params=params)\n",
    "        json = response.json()\n",
    "\n",
    "        zipcode = json[\"results\"][0][\"address_components\"][8][\"long_name\"]\n",
    "        print(zipcode)\n",
    "        uber_test[\"zipcode\"] = zipcode\n",
    "        \n",
    "        \n",
    "\n",
    "except:\n",
    "\n",
    "    print(\"invalid\")\n",
    "\n",
    "\n",
    "print(uber_test)"
   ]
  },
  {
   "cell_type": "code",
   "execution_count": null,
   "metadata": {
    "collapsed": true
   },
   "outputs": [],
   "source": []
  },
  {
   "cell_type": "code",
   "execution_count": null,
   "metadata": {
    "collapsed": true
   },
   "outputs": [],
   "source": []
  }
 ],
 "metadata": {
  "kernelspec": {
   "display_name": "Python 3",
   "language": "python",
   "name": "python3"
  },
  "language_info": {
   "codemirror_mode": {
    "name": "ipython",
    "version": 3
   },
   "file_extension": ".py",
   "mimetype": "text/x-python",
   "name": "python",
   "nbconvert_exporter": "python",
   "pygments_lexer": "ipython3",
   "version": "3.6.3"
  }
 },
 "nbformat": 4,
 "nbformat_minor": 2
}
