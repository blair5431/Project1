{
 "cells": [
  {
   "cell_type": "code",
   "execution_count": 1,
   "metadata": {
    "collapsed": true
   },
   "outputs": [],
   "source": [
    "import csv\n",
    "import os\n",
    "import pandas as pd\n",
    "import requests as req\n",
    "import json"
   ]
  },
  {
   "cell_type": "code",
   "execution_count": null,
   "metadata": {
    "collapsed": true
   },
   "outputs": [],
   "source": [
    "data_file= \"uber_data_random_2000_rows.csv\"\n",
    "uber_data=pd.read_csv(data_file)\n",
    "uber_data"
   ]
  },
  {
   "cell_type": "code",
   "execution_count": null,
   "metadata": {
    "collapsed": true
   },
   "outputs": [],
   "source": [
    "uber_data[\"zipcode\"]"
   ]
  },
  {
   "cell_type": "code",
   "execution_count": null,
   "metadata": {
    "collapsed": true
   },
   "outputs": [],
   "source": [
    "county_names= []\n",
    "fips_code = []\n",
    "state_fips = []\n",
    "county_fips = []\n",
    "\n",
    "bronx_county= [10472.0, 10463.0, 10468.0, 10457.0, 10467.0, 10462.0, 10456.0, 10469.0, 10453.0, 10454.0, 10464.0, 10474.0, \n",
    "               10803.0, 10704.0, 10499.0, 10461.0, 10459.0, 10452.0, 10465.0, 10460.0, 10466.0, 10473.0, 10471.0, 10705.0, \n",
    "               10451.0, 10475.0, 10470.0, 10455.0, 10458.0]\n",
    "ny_county = [10024.0, 10016.0, 10014.0, 10026.0, 10027.0, 10004.0, 10023.0, 10020.0, 10022.0, 10017.0, 10006.0, 10019.0, \n",
    "             10029.0, 10007.0, 10009.0, 10010.0, 10011.0, 10045.0, 10072.0, 10038.0, 10082.0, 10080.0, 10035.0, 10106.0, \n",
    "             10065.0, 10112.0, 10110.0, 10087.0, 10044.0, 10055.0, 10034.0, 10048.0, 10069.0, 10105.0, 10156.0, 10163.0, \n",
    "             10121.0, 10160.0, 10122.0, 10154.0, 10157.0, 10166.0, 10133.0, 10128.0, 10153.0, 10124.0, 10149.0, 10132.0, \n",
    "             10164.0, 10119.0, 10118.0, 10151.0, 10165.0, 10271.0, 10169.0, 10279.0, 10172.0, 10177.0, 10174.0, 10270.0, \n",
    "             10176.0, 10259.0, 10276.0, 10277.0, 10256.0, 10171.0, 10179.0, 10249.0, 10268.0, 10272.0, 10260.0, 10213.0, \n",
    "             10280.0, 10286.0, 10463.0, 10281.0, 10282.0, 10039.0, 10170.0, 10025.0, 10043.0, 10108.0, 10032.0, 10261.0, \n",
    "             10036.0, 10003.0, 10274.0, 10013.0, 10126.0, 10030.0, 10047.0, 10012.0, 10116.0, 10265.0, 10028.0, 10041.0, \n",
    "             10123.0, 10273.0, 10197.0, 10278.0, 10001.0, 10125.0, 10040.0, 10129.0, 10138.0, 10155.0, 10018.0, 10275.0, \n",
    "             10130.0, 10033.0, 10152.0, 10114.0, 10242.0, 10158.0, 10081.0, 10168.0, 10175.0, 10021.0, 10167.0, 10031.0, \n",
    "             10104.0, 10109.0, 10185.0, 11201.0, 10161.0, 10199.0, 10005.0, 10150.0, 10102.0, 10269.0, 10178.0, 10008.0, \n",
    "             10115.0, 10173.0, 10002.0, 10285.0, 10111.0, 10113.0, 10103.0, 10107.0, 10037.0, 10292.0, 10075.0, 10101.0, \n",
    "             10162.0, 10117.0, 10131.0,10159.0]\n",
    "queens_county = [11102.0, 11004.0, 11040.0, 11354.0, 11239.0, 11358.0, 11360.0, 11364.0, 11380.0, 11386.0, 11106.0, 11351.0, \n",
    "                 11355.0, 11363.0, 11366.0, 11356.0, 11385.0, 11373.0, 11359.0, 11377.0, 11370.0, 11371.0, 11421.0, 11425.0, \n",
    "                 11432.0, 11411.0, 11690.0, 11424.0, 11417.0, 11434.0, 11430.0, 11427.0, 11439.0, 11692.0, 11431.0, 11426.0, \n",
    "                 11694.0, 11580.0, 11416.0, 11697.0, 11436.0, 11412.0, 11005.0, 11101.0, 11422.0, 11361.0, 11418.0, 11429.0, \n",
    "                 11104.0, 11691.0, 11375.0, 11499.0, 11381.0, 11693.0, 11105.0, 11372.0, 11374.0, 11414.0, 11559.0, 11109.0, \n",
    "                 11379.0, 11695.0, 11413.0, 11096.0, 11368.0, 11362.0, 11405.0, 11415.0, 11367.0, 11369.0, 11433.0, 11352.0, \n",
    "                 11103.0, 11378.0, 11419.0, 11001.0, 11435.0, 11423.0, 11420.0, 11357.0, 11365.0,11428]\n",
    "kings_county = [11221.0, 11220.0, 11224.0, 11202.0, 11212.0, 11218.0, 11225.0, 11207.0, 11216.0, 11217.0, 11208.0, 11230.0, \n",
    "                11223.0, 11215.0, 11203.0, 11219.0, 11235.0, 11243.0, 11239.0, 11234.0, 11249.0, 11231.0, 11252.0, 11233.0, \n",
    "                11238.0, 11236.0, 11210.0, 11205.0, 11213.0, 11209.0, 11228.0, 11232.0, 11222.0, 11251.0, 11204.0, 11241.0, \n",
    "                11206.0, 11237.0, 11201.0, 11245.0, 11226.0, 11693.0, 11211.0, 11214.0, 11229.0, 11256.0, 11247.0]\n",
    "\n",
    "richmond_county = [10302.0, 10306.0, 10305.0, 10314.0, 10304.0, 10313.0, 10311.0, 10301.0, 10310.0, 10307.0, 10308.0, 10312.0, 10309]\n",
    "\n",
    "\n",
    "\n",
    "\n",
    "\n",
    "for zip in uber_data[\"zipcode\"]:\n",
    "    if zip in bronx_county:\n",
    "        county_name = \"Bronx County\"\n",
    "        fips =  36005\n",
    "        state_fip = 36\n",
    "        county_fip = 005\n",
    "        county_names.append(county_name)\n",
    "        state_fips.append(state_fip)\n",
    "        county_fips.append(county_fip)\n",
    "        #print(county_name)\n",
    "        fips_code.append(fips)\n",
    "    elif zip in ny_county:\n",
    "        county_name = \"New York County\" \n",
    "        fips=36061\n",
    "        state_fip = 36\n",
    "        county_fip = 061\n",
    "        county_names.append(county_name)\n",
    "        state_fips.append(state_fip)\n",
    "        county_fips.append(county_fip)\n",
    "        #print(county_name)\n",
    "        fips_code.append(fips)\n",
    "    elif zip in queens_county:\n",
    "        county_name = \"Queens County\" \n",
    "        fips=36081\n",
    "        state_fip = 36\n",
    "        county_fip = 081\n",
    "        county_names.append(county_name)\n",
    "        fips_code.append(fips)\n",
    "        state_fips.append(state_fip)\n",
    "        county_fips.append(county_fip)\n",
    "    elif zip in kings_county:\n",
    "        county_name = \"Kings County\" \n",
    "        fips=36047\n",
    "        state_fip = 36\n",
    "        county_fip = 047\n",
    "        county_names.append(county_name)\n",
    "        fips_code.append(fips)\n",
    "        fips_code.append(fips)\n",
    "        state_fips.append(state_fip)\n",
    "        county_fips.append(county_fip)\n",
    "    elif zip in richmond_county:\n",
    "        county_name = \"Richmond County\" \n",
    "        fips=36085\n",
    "        state_fip = 36\n",
    "        county_fip = 085\n",
    "        county_names.append(county_name)\n",
    "        fips_code.append(fips)\n",
    "        state_fips.append(state_fip)\n",
    "        county_fips.append(county_fip)\n",
    "    else: \n",
    "        county_name = \"Other\" \n",
    "        fips=10000\n",
    "        state_fip = 99\n",
    "        county_fip = 99\n",
    "        county_names.append(county_name)\n",
    "        fips_code.append(fips)\n",
    "        state_fips.append(state_fip)\n",
    "        county_fips.append(county_fip)\n",
    "        \n",
    "        print(zip)\n"
   ]
  },
  {
   "cell_type": "code",
   "execution_count": null,
   "metadata": {
    "collapsed": true
   },
   "outputs": [],
   "source": [
    "uber_data[\"County\"]=county_names\n",
    "uber_data[\"Fips Code\"] =fips_code\n",
    "#len(uber_data)\n",
    "#len(county_names)\n",
    "uber_data    "
   ]
  },
  {
   "cell_type": "code",
   "execution_count": null,
   "metadata": {
    "collapsed": true
   },
   "outputs": [],
   "source": [
    "len(county_names)"
   ]
  },
  {
   "cell_type": "code",
   "execution_count": null,
   "metadata": {
    "collapsed": true
   },
   "outputs": [],
   "source": [
    "#getting census information \n",
    "base_url = \"https://api.census.gov/data/2014/acs1/profile\"\n",
    "#https://api.census.gov/data/2014/acs1/profile?get=DP02_0001E,NAME&for=county:*&key=YOUR_KEY_GOES_HERE\n",
    "#&for=county:*&in=state:01 – restricts the result to include all counties in Alabama\n",
    "#"
   ]
  },
  {
   "cell_type": "code",
   "execution_count": 12,
   "metadata": {},
   "outputs": [
    {
     "data": {
      "text/plain": [
       "<Response [200]>"
      ]
     },
     "execution_count": 12,
     "metadata": {},
     "output_type": "execute_result"
    }
   ],
   "source": [
    "test = \"https://api.census.gov/data/2014/acs1/profile?get=DP03_0062E,DP02_0067PE,DP02_0066PE,NAME&for=county:005&in=state:36&key=f359a5179202e191ac264ec26f386c43d35c5cb1\"\n",
    "test_request = req.get(test)\n",
    "\n",
    "json.dumps(test_request.json())\n",
    "test_request"
   ]
  },
  {
   "cell_type": "code",
   "execution_count": 21,
   "metadata": {},
   "outputs": [
    {
     "data": {
      "text/plain": [
       "'33712'"
      ]
     },
     "execution_count": 21,
     "metadata": {},
     "output_type": "execute_result"
    }
   ],
   "source": [
    "#test_request.keys()\n",
    "data=test_request.json()\n",
    "data[1][0]"
   ]
  },
  {
   "cell_type": "code",
   "execution_count": null,
   "metadata": {
    "collapsed": true
   },
   "outputs": [],
   "source": [
    "baseurl = "
   ]
  },
  {
   "cell_type": "code",
   "execution_count": 22,
   "metadata": {},
   "outputs": [
    {
     "data": {
      "text/plain": [
       "<Response [500]>"
      ]
     },
     "execution_count": 22,
     "metadata": {},
     "output_type": "execute_result"
    }
   ],
   "source": [
    "test2 =\"https://api.census.gov/data/2014/acs1?get=NAME,B01001_001E&for=county:003&in=state:01&key=f359a5179202e191ac264ec26f386c43d35c5cb1\"\n",
    "test2_request=req.get(test2)\n",
    "test2_request"
   ]
  },
  {
   "cell_type": "code",
   "execution_count": null,
   "metadata": {
    "collapsed": true
   },
   "outputs": [],
   "source": [
    "https://api.census.gov/data/2014/acs1/profile?get=DP02_0001E,NAME&for=county:*&key=YOUR_KEY_GOES_HERE"
   ]
  },
  {
   "cell_type": "code",
   "execution_count": 16,
   "metadata": {},
   "outputs": [
    {
     "data": {
      "text/plain": [
       "153"
      ]
     },
     "execution_count": 16,
     "metadata": {},
     "output_type": "execute_result"
    }
   ],
   "source": [
    "data_file2= \"uber_08012014_080714.csv\"\n",
    "uber_week=pd.read_csv(data_file2)\n",
    "uber_week\n",
    "\n",
    "uber_week[\"Lat\"]=round(uber_week[\"Lat\"],2)\n",
    "uber_week[\"Lon\"]=round(uber_week[\"Lon\"],2)\n",
    "uber_week.head()\n",
    "unique_lat = uber_week[\"Lat\"].unique()\n",
    "unique_lon = uber_week[\"Lon\"].unique()\n",
    "len(unique_lon)"
   ]
  },
  {
   "cell_type": "code",
   "execution_count": null,
   "metadata": {
    "collapsed": true
   },
   "outputs": [],
   "source": []
  }
 ],
 "metadata": {
  "kernelspec": {
   "display_name": "Python 3",
   "language": "python",
   "name": "python3"
  },
  "language_info": {
   "codemirror_mode": {
    "name": "ipython",
    "version": 3
   },
   "file_extension": ".py",
   "mimetype": "text/x-python",
   "name": "python",
   "nbconvert_exporter": "python",
   "pygments_lexer": "ipython3",
   "version": "3.6.3"
  }
 },
 "nbformat": 4,
 "nbformat_minor": 2
}
