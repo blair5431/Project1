{
 "cells": [
  {
   "cell_type": "code",
   "execution_count": null,
   "metadata": {
    "collapsed": true
   },
   "outputs": [],
   "source": [
    "import pandas as pd\n",
    "import json\n",
    "import requests as req\n",
    "from datetime import date\n",
    "import numpy as np\n",
    "import matplotlib.pyplot as plt\n",
    "import calendar"
   ]
  },
  {
   "cell_type": "code",
   "execution_count": null,
   "metadata": {},
   "outputs": [],
   "source": [
    "#import data\n",
    "\n",
    "uber_july_raw = pd.read_csv(\"uber-raw-data-jul14.csv\")\n",
    "\n",
    "uber_aug_raw = pd.read_csv(\"uber-raw-data-aug14.csv\")\n",
    "\n",
    "\n",
    "uber_sep_raw = pd.read_csv(\"uber-raw-data-sep14.csv\")\n",
    "\n",
    "lyft_data_raw = pd.read_csv(\"Lyft_July-Sep.csv\")\n",
    "\n",
    "lyft_data_raw.head()"
   ]
  },
  {
   "cell_type": "code",
   "execution_count": null,
   "metadata": {},
   "outputs": [],
   "source": [
    "rounded= round(lyft_data_raw[\"start_lat\"],2)\n",
    "lyft_data_raw[\"start_lat\"]=round(lyft_data_raw[\"start_lat\"],2)\n",
    "lyft_data_raw[\"start_lng\"]=round(lyft_data_raw[\"start_lng\"],2)\n",
    "lyft_data_raw[\"start_lat\"].count()\n",
    "lyft_data_raw[\"start_lng\"].unique()"
   ]
  },
  {
   "cell_type": "code",
   "execution_count": null,
   "metadata": {},
   "outputs": [],
   "source": [
    "# Union 3 uber datasets together\n",
    "uber_july_aug = uber_july_raw.append(uber_aug_raw)\n",
    "uber_data_raw = uber_july_aug.append(uber_sep_raw)\n",
    "uber_test = uber_data_raw.sample(1000)\n",
    "uber_test[\"Date/Time\"]\n",
    "uber_data_raw"
   ]
  },
  {
   "cell_type": "code",
   "execution_count": null,
   "metadata": {
    "collapsed": true
   },
   "outputs": [],
   "source": []
  },
  {
   "cell_type": "code",
   "execution_count": null,
   "metadata": {},
   "outputs": [],
   "source": [
    "#UBER FREQUENCY OF TRIP BY DAYS OF WEEKS\n",
    "#extracting day of the week out of date/time for uber\n",
    "uber_data_raw[\"day of week\"] = pd.to_datetime(uber_data_raw[\"Date/Time\"], format=\"%m/%d/%Y %H:%M:%S\").dt.weekday\n",
    "\n",
    "\n",
    "#converting day of the week integer to text day of the week\n",
    "def dayNameFromWeekday(weekday):\n",
    "    if weekday == 0:\n",
    "        return \"Monday\"\n",
    "    if weekday == 1:\n",
    "        return \"Tuesday\"\n",
    "    if weekday == 2:\n",
    "        return \"Wednesday\"\n",
    "    if weekday == 3:\n",
    "        return \"Thursday\"\n",
    "    if weekday == 4:\n",
    "        return \"Friday\"\n",
    "    if weekday == 5:\n",
    "        return \"Saturday\"\n",
    "    if weekday == 6:\n",
    "        return \"Sunday\"\n",
    "    \n",
    "uber_data_raw[\"day of week\"]=uber_data_raw[\"day of week\"].apply(dayNameFromWeekday)\n",
    "\n",
    "#grouping data by days of the week\n",
    "weekday_grouped =uber_data_raw.groupby(\"day of week\") \n",
    "trip_counts=weekday_grouped[\"Date/Time\"].count()\n",
    "\n",
    "#Creating x-axis the legnth of the trip_counts\n",
    "x_axis = np.arange(len(trip_counts))\n",
    "\n",
    "#Creating bar chart\n",
    "barlist=plt.bar(x_axis, trip_counts, align=\"center\", color='g')\n",
    "tick_locations = [value+0.4 for value in x_axis]\n",
    "\n",
    "weekday=[\"Monday\", \"Tuesday\", \"Wednesday\", \"Thursday\", \"Friday\", \"Saturday\", \"Sunday\"]\n",
    "plt.xticks(x_axis, weekday, rotation=\"vertical\")\n",
    "\n",
    "plt.title(\"Frequency of Uber Rides by Day of Week (7/1/14 - 9/30/14)\")\n",
    "plt.xlabel(\"Day of Week\")\n",
    "plt.ylabel(\"Trip Frequency\")\n",
    "plt.savefig(\"Frequency of Uber Rides by Day of Week.png\")\n",
    "plt.show()"
   ]
  },
  {
   "cell_type": "code",
   "execution_count": null,
   "metadata": {},
   "outputs": [],
   "source": [
    "#PRCENT OF UBER RIDES PER DAY\n",
    "\n",
    "#calculating percent of rides per day\n",
    "total_sample =uber_data_raw[\"day of week\"].count()\n",
    "trip_percent=round(((weekday_grouped[\"Date/Time\"].count())/(total_sample))*100,2)\n",
    "\n",
    "#Creating x-axis the legnth of the trip_counts\n",
    "x_axis2 = np.arange(len(trip_percent))\n",
    "\n",
    "#Creating bar chart\n",
    "barlist=plt.bar(x_axis2, trip_percent, align=\"center\", color='g')\n",
    "tick_locations = [value+0.4 for value in x_axis]\n",
    "\n",
    "weekday=[\"Monday\", \"Tuesday\", \"Wednesday\", \"Thursday\", \"Friday\", \"Saturday\", \"Sunday\"]\n",
    "plt.xticks(x_axis2, weekday, rotation=\"vertical\")\n",
    "plt.ylim(0,20)\n",
    "\n",
    "plt.title(\"Percent of Uber Rides by Day of Week (7/1/14 - 9/30/14)\")\n",
    "plt.xlabel(\"Day of Week\")\n",
    "plt.ylabel(\"Percentage\")\n",
    "plt.savefig(\"Percentage of Uber Rides by Day of Week.png\")\n",
    "\n",
    "plt.show()"
   ]
  },
  {
   "cell_type": "code",
   "execution_count": null,
   "metadata": {},
   "outputs": [],
   "source": [
    "#LYFT FREQUENCY OF TRIP BY DAYS OF WEEKS\n",
    "#extracting day of the week out of date/time for uber\n",
    "lyft_data_raw[\"day of week\"] = pd.to_datetime(lyft_data_raw[\"time_of_trip\"], format=\"%m/%d/%Y %H:%M\").dt.weekday\n",
    "\n",
    "#converting day of the week integer to text day of the week\n",
    "def dayNameFromWeekday(weekday):\n",
    "    if weekday == 0:\n",
    "        return \"Monday\"\n",
    "    if weekday == 1:\n",
    "        return \"Tuesday\"\n",
    "    if weekday == 2:\n",
    "        return \"Wednesday\"\n",
    "    if weekday == 3:\n",
    "        return \"Thursday\"\n",
    "    if weekday == 4:\n",
    "        return \"Friday\"\n",
    "    if weekday == 5:\n",
    "        return \"Saturday\"\n",
    "    if weekday == 6:\n",
    "        return \"Sunday\"\n",
    "    \n",
    "lyft_data_raw[\"day of week\"]=lyft_data_raw[\"day of week\"].apply(dayNameFromWeekday)\n",
    "\n",
    "#grouping data by days of the week\n",
    "lyft_weekday_grouped =lyft_data_raw.groupby(\"day of week\") \n",
    "trip_counts=lyft_weekday_grouped[\"time_of_trip\"].count()\n",
    "\n",
    "#Creating x-axis the legnth of the trip_counts\n",
    "x_axis = np.arange(len(trip_counts))\n",
    "\n",
    "#Creating bar chart\n",
    "barlist=plt.bar(x_axis, trip_counts, align=\"center\", color='b')\n",
    "tick_locations = [value+0.4 for value in x_axis]\n",
    "\n",
    "weekday=[\"Monday\", \"Tuesday\", \"Wednesday\", \"Thursday\", \"Friday\", \"Saturday\", \"Sunday\"]\n",
    "plt.xticks(x_axis, weekday, rotation=\"vertical\")\n",
    "\n",
    "plt.title(\"Frequency of Lyft Rides by Day of Week (7/1/14 - 9/30/14)\")\n",
    "plt.xlabel(\"Day of Week\")\n",
    "plt.ylabel(\"Trip Frequency\")\n",
    "plt.savefig(\"Frequency of Lyft Rides by Day of Week.png\")\n",
    "\n",
    "plt.show()"
   ]
  },
  {
   "cell_type": "code",
   "execution_count": null,
   "metadata": {},
   "outputs": [],
   "source": [
    "#PERCENTAGE OF LYFT RIDES PER DAY\n",
    "\n",
    "#calculating percent of rides per day\n",
    "lyft_total_sample =lyft_data_raw[\"time_of_trip\"].count()\n",
    "lyft_trip_percent=round(((lyft_weekday_grouped[\"time_of_trip\"].count())/(lyft_total_sample))*100,2)\n",
    "\n",
    "\n",
    "\n",
    "#Creating x-axis the legnth of the trip_counts\n",
    "x_axis3 = np.arange(len(lyft_trip_percent))\n",
    "\n",
    "#Creating bar chart\n",
    "barlist=plt.bar(x_axis3, lyft_trip_percent, align=\"center\", color='b')\n",
    "tick_locations = [value+0.4 for value in x_axis]\n",
    "\n",
    "weekday=[\"Monday\", \"Tuesday\", \"Wednesday\", \"Thursday\", \"Friday\", \"Saturday\", \"Sunday\"]\n",
    "plt.xticks(x_axis3, weekday, rotation=\"vertical\")\n",
    "\n",
    "plt.title(\"Percentage of Lyft Rides by Day of Week (7/1/14 - 9/30/14)\")\n",
    "plt.xlabel(\"Day of Week\")\n",
    "plt.ylabel(\"Percentage\")\n",
    "plt.ylim(0,20)\n",
    "\n",
    "plt.savefig(\"Percentage of Lyft Rides by Day of Week.png\")\n",
    "\n",
    "plt.show()"
   ]
  },
  {
   "cell_type": "code",
   "execution_count": null,
   "metadata": {},
   "outputs": [],
   "source": [
    "lyft_data_raw[\"day of week\"]\n"
   ]
  },
  {
   "cell_type": "code",
   "execution_count": null,
   "metadata": {},
   "outputs": [],
   "source": [
    "lyft_data_raw"
   ]
  },
  {
   "cell_type": "code",
   "execution_count": null,
   "metadata": {
    "collapsed": true
   },
   "outputs": [],
   "source": []
  }
 ],
 "metadata": {
  "kernelspec": {
   "display_name": "Python 3",
   "language": "python",
   "name": "python3"
  },
  "language_info": {
   "codemirror_mode": {
    "name": "ipython",
    "version": 3
   },
   "file_extension": ".py",
   "mimetype": "text/x-python",
   "name": "python",
   "nbconvert_exporter": "python",
   "pygments_lexer": "ipython3",
   "version": "3.6.3"
  }
 },
 "nbformat": 4,
 "nbformat_minor": 2
}
